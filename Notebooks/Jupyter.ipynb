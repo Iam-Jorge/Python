{
 "cells": [
  {
   "cell_type": "markdown",
   "metadata": {},
   "source": [
    "# Jupyter"
   ]
  },
  {
   "cell_type": "markdown",
   "metadata": {},
   "source": [
    "Jupyter es una aplicación servidor-cliente que permite editar y ejecutar documentos a través de un navegador web. \n",
    "\n",
    "Un kernel de Notebook es un \"motor computacional\" que ejecuta el código contenido en un documento de Notebook. El kernel ipython. Existen kernels para muchos otros lenguajes (kernels oficiales).\n",
    "\n",
    "Al abrir un documento de Notebook, el kernel asociado se ejecuta automáticamente. Cuando se ejecuta el cuaderno el kernel realiza el cálculo y produce los resultados. Dependiendo del tipo de cálculo, el kernel puede consumir una cantidad significativa de CPU y RAM.\n",
    "\n",
    "Podemos ejecutar Jupyter desde una terminal (Win + r) y escribiendo cmd, dentro de la terminal escribimos \n",
    "> jupyter notebook \n",
    "\n",
    "se abrirá una página web con la dirección del host local y el puerto 8888."
   ]
  },
  {
   "cell_type": "markdown",
   "metadata": {},
   "source": [
    "<button type=\"button\">[Volver](../Notebooks/Index.ipynb)</button>"
   ]
  }
 ],
 "metadata": {
  "kernelspec": {
   "display_name": "Python 3",
   "language": "python",
   "name": "python3"
  },
  "language_info": {
   "name": "python",
   "version": "3.8.6"
  },
  "orig_nbformat": 4
 },
 "nbformat": 4,
 "nbformat_minor": 2
}
