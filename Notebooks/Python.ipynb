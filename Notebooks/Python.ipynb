{
 "cells": [
  {
   "cell_type": "markdown",
   "metadata": {},
   "source": [
    "# Python"
   ]
  },
  {
   "cell_type": "markdown",
   "metadata": {},
   "source": [
    "- [Strings](#strings)\n",
    "- [Listas](#listas)\n",
    "- [Tuplas](#tuplas)\n",
    "- [Sets](#sets)\n",
    "- [Diccionarios](#diccionarios)\n",
    "- [Estructuras condicionales](#estructuras-condicionales)\n",
    "- [Estructuras repetitivas](#estructuras-repetitivas)\n",
    "- [Funciones](#funciones)\n",
    "- [Datatime](#datatime)\n",
    "- [Excepciones](#excepciones)\n",
    "- [Ficheros](#ficheros)\n",
    "- [Regexp](#regexp)\n",
    "- [Networking](#networking)"
   ]
  },
  {
   "cell_type": "markdown",
   "metadata": {},
   "source": [
    "## Introducción a Python"
   ]
  },
  {
   "cell_type": "markdown",
   "metadata": {},
   "source": [
    "Python es un lenguaje de alto nivel. Dado que el hardware de la CPU y no entiende ninguno de estos lenguajes de alto nivel y el lenguaje máquina está ligado al hardware del ordenador.\n",
    "\n",
    "Los programas escritos en lenguajes de alto nivel pueden trasladarse entre distintos ordenadores utilizando un intérprete o traductor.\n",
    "\n",
    "- Intérprete lee el código fuente del programa tal y como lo escribió el programador, analiza el código fuente e interpreta las instrucciones sobre la marcha.\n",
    "\n",
    "- Compilador necesita que se le entregue todo el programa en un archivo y, a continuación, ejecuta un proceso para traducir el código fuente de alto nivel a lenguaje máquina.\n",
    "\n",
    "Los archvios Python tienen extensión .py se pueden ejecutar desde una terminal escribiendo python nombre_archivo.py"
   ]
  },
  {
   "cell_type": "markdown",
   "metadata": {},
   "source": [
    "## Strings <a class=\"anchor\" id=\"strings\"></a>"
   ]
  },
  {
   "cell_type": "markdown",
   "metadata": {},
   "source": [
    "Una cadena es una secuencia de caracteres. Puede acceder a los caracteres de uno en uno con []:"
   ]
  },
  {
   "cell_type": "code",
   "execution_count": 1,
   "metadata": {},
   "outputs": [],
   "source": [
    "fruit = 'banana'\n",
    "letter = fruit[1]"
   ]
  },
  {
   "cell_type": "markdown",
   "metadata": {},
   "source": [
    "#### Funciones utiles para Strings"
   ]
  },
  {
   "cell_type": "code",
   "execution_count": 2,
   "metadata": {},
   "outputs": [
    {
     "name": "stdout",
     "output_type": "stream",
     "text": [
      "6\n",
      "ana\n",
      "True\n",
      "False\n",
      "uct.ac.za\n",
      "In 3 years I have spotted 0.1 camels.\n",
      "Help on method_descriptor:\n",
      "\n",
      "capitalize(self, /)\n",
      "    Return a capitalized version of the string.\n",
      "    \n",
      "    More specifically, make the first character have upper case and the rest lower\n",
      "    case.\n",
      "\n"
     ]
    }
   ],
   "source": [
    "# Funcion len\n",
    "fruit = 'banana'\n",
    "print(len(fruit))\n",
    "\n",
    "# Trocear cadenas (slice)\n",
    "print(fruit[3:6])\n",
    "\n",
    "# In operatpr\n",
    "print('ana' in fruit)\n",
    "\n",
    "# Comparacion de cadenas\n",
    "print('ana' == fruit)\n",
    "\n",
    "# Parsing (substring9)\n",
    "data = 'From stephen.marquard@uct.ac.za Sat Jan  5 09:14:16 2008'\n",
    "# Primero buscamos la posicion de la @\n",
    "atpos = data.find('@') # posicion 21\n",
    "# Buscamos la posicion del primer espacio despues de la @\n",
    "sppos = data.find(' ',atpos) # posicion 31\n",
    "# Troceamos la cadena con las psociones anteriores\n",
    "host = data[atpos+1:sppos]\n",
    "print(host)\n",
    "# Format operator\n",
    "print('In %d years I have spotted %g %s.' % (3, 0.1, 'camels'))\n",
    "# Obtener ayuda sobre un metodo\n",
    "help(str.capitalize)"
   ]
  },
  {
   "cell_type": "markdown",
   "metadata": {},
   "source": [
    "## Listas <a class=\"anchor\" id=\"listas\"></a>"
   ]
  },
  {
   "cell_type": "code",
   "execution_count": 3,
   "metadata": {},
   "outputs": [],
   "source": [
    "sample_list1 = ['Bungalow', 'Cottage', 'Cabin', 1997, 2000] \n",
    "sample_list2 = [30, 40, 100, 60]"
   ]
  },
  {
   "cell_type": "markdown",
   "metadata": {},
   "source": [
    "#### Acceso a listas\n",
    "Podemos acceder a una determinada posición, omitir índices, seleccionar un rango de índices. También podemos acceder a los últimos elementos con índices negativos.\n"
   ]
  },
  {
   "cell_type": "code",
   "execution_count": 3,
   "metadata": {},
   "outputs": [
    {
     "name": "stdout",
     "output_type": "stream",
     "text": [
      "Cabin\n",
      "['Cottage', 'Cabin']\n",
      "1997\n",
      "True\n"
     ]
    }
   ],
   "source": [
    "print(sample_list1[2])\n",
    "print(sample_list1[1:3]) # start and end index\n",
    "print(sample_list1[-2]) # returns second last item\n",
    "print('Cabin' in sample_list1)"
   ]
  },
  {
   "cell_type": "markdown",
   "metadata": {},
   "source": [
    "#### Manipular listas\n",
    "Podemos modificar, añadir o eliminar valores de una lista"
   ]
  },
  {
   "cell_type": "code",
   "execution_count": null,
   "metadata": {},
   "outputs": [],
   "source": [
    "sample_list1[3] = 1996 # changing the value of item at index [3]\n",
    "sample_list1.append('Charlet') # adding another type of home\n",
    "sample_list1.remove('Charlet') # Remove a specific element\n",
    "sample_list1.pop(3) # Remove a specific index or de last item\n",
    "del sample_list2[2] # Remove element at position 3\n",
    "del sample_list2 # Remove the entire list\n",
    "sample_list1.clear() # Completely empties the entire list"
   ]
  },
  {
   "cell_type": "markdown",
   "metadata": {},
   "source": [
    "#### Ordenación de listas\n",
    "Python proporciona un método sort(), por defecto forma de ordenación ascendente."
   ]
  },
  {
   "cell_type": "code",
   "execution_count": null,
   "metadata": {},
   "outputs": [],
   "source": [
    "sample_list1.sort() # Ascending order\n",
    "sample_list1.sort(reverse = True) # Descending order\n",
    "sample_list1.reverse() # To reverse the order"
   ]
  },
  {
   "cell_type": "markdown",
   "metadata": {},
   "source": [
    "#### Recorrer una lista\n",
    "Python proporciona un método sort(), por defecto forma de ordenación ascendente."
   ]
  },
  {
   "cell_type": "code",
   "execution_count": 5,
   "metadata": {},
   "outputs": [
    {
     "name": "stdout",
     "output_type": "stream",
     "text": [
      "Cheddar\n",
      "Edam\n",
      "Gouda\n"
     ]
    }
   ],
   "source": [
    "cheeses = ['Cheddar', 'Edam', 'Gouda']\n",
    "\n",
    "for cheese in cheeses:\n",
    "    print(cheese)"
   ]
  },
  {
   "cell_type": "markdown",
   "metadata": {},
   "source": [
    "#### Operaciones con listas"
   ]
  },
  {
   "cell_type": "code",
   "execution_count": 9,
   "metadata": {},
   "outputs": [
    {
     "name": "stdout",
     "output_type": "stream",
     "text": [
      "[1, 2, 3, 4, 5, 6]\n",
      "[1, 2, 3, 1, 2, 3, 1, 2, 3]\n",
      "['a', 'b', 'c', 'd', 'e']\n"
     ]
    }
   ],
   "source": [
    "# Concatenar\n",
    "a = [1, 2, 3]\n",
    "b = [4, 5, 6]\n",
    "c = a + b\n",
    "print(c)\n",
    "\n",
    "# Repetition\n",
    "print(a * 3)\n",
    "\n",
    "# Extend\n",
    "t1 = ['a', 'b', 'c']\n",
    "t2 = ['d', 'e']\n",
    "t1.extend(t2)\n",
    "print(t1)"
   ]
  },
  {
   "cell_type": "markdown",
   "metadata": {},
   "source": [
    "#### Funciones para listas"
   ]
  },
  {
   "cell_type": "code",
   "execution_count": 4,
   "metadata": {},
   "outputs": [
    {
     "name": "stdout",
     "output_type": "stream",
     "text": [
      "6\n",
      "74\n",
      "3\n",
      "154\n",
      "25.666666666666668\n"
     ]
    }
   ],
   "source": [
    "nums = [3, 41, 12, 9, 74, 15]\n",
    "print(len(nums))\n",
    "print(max(nums))\n",
    "print(min(nums))\n",
    "print(sum(nums))\n",
    "print(sum(nums)/len(nums))"
   ]
  },
  {
   "cell_type": "markdown",
   "metadata": {},
   "source": [
    "## Tuplas <a class=\"anchor\" id=\"tuplas\"></a>"
   ]
  },
  {
   "cell_type": "markdown",
   "metadata": {},
   "source": [
    "Una tupla es estructura de datos secuencial de Python, compuesta por elementos separados por comas y es diferente a una lista.\n",
    "- Son inmutables, no se pueden añadir o eliminar elementos después de la creación \n",
    "- Se crea con paréntesis\n",
    "- Una tupla puede ser packed (asignar valores) y unpacked (extraer valores)"
   ]
  },
  {
   "cell_type": "code",
   "execution_count": null,
   "metadata": {},
   "outputs": [],
   "source": [
    "sample_tuple1 = ('Pepperoni', 'Hawaiian ', 'Chicken Alfredo', 'Vegetarian ', 'Margherita') # creating tuple"
   ]
  },
  {
   "cell_type": "markdown",
   "metadata": {},
   "source": [
    "#### Acceso a una tupla"
   ]
  },
  {
   "cell_type": "code",
   "execution_count": null,
   "metadata": {},
   "outputs": [],
   "source": [
    "print(sample_tuple1[2]) # access the third element\n",
    "sample_tuple1[-2] # access the second last index\n",
    "sample_tuple1[1:4] # the element at fourth index is excluded"
   ]
  },
  {
   "cell_type": "markdown",
   "metadata": {},
   "source": [
    "#### Actualizar tuplas\n",
    "Es posible la mutación de una tupla a una lista y retornar la lista a tupla otra vez."
   ]
  },
  {
   "cell_type": "code",
   "execution_count": null,
   "metadata": {},
   "outputs": [],
   "source": [
    "# Updating a tuple\n",
    "list_from_tuple = list(sample_tuple1) # convert the tuple to list\n",
    "list_from_tuple[3] = 'Ranch' # change the item at index [3]\n",
    "sample_tuple1 = tuple(list_from_tuple) # convert list back to tuple\n"
   ]
  },
  {
   "cell_type": "markdown",
   "metadata": {},
   "source": [
    "#### Unpacking tuples\n",
    "Esto significa que podemos extraer cada valor de la tupla y asignarlo a una variable."
   ]
  },
  {
   "cell_type": "code",
   "execution_count": null,
   "metadata": {},
   "outputs": [],
   "source": [
    "# unpack the tuple\n",
    "sample_tuple1 = ('Pepperoni', 'Hawaiian ', 'Chicken Alfredo', 'Vegetarian ', 'Margherita')\n",
    "(house_type1, house_type2, house_type3, house_type4, house_type5) = sample_tuple1\n",
    "print(house_type1) # up to house_type5"
   ]
  },
  {
   "cell_type": "markdown",
   "metadata": {},
   "source": [
    "Hay que especificar el mismo número de variables que la tupla o una variable auxiliar donde almacenaremos las que no utilizaremos"
   ]
  },
  {
   "cell_type": "code",
   "execution_count": null,
   "metadata": {},
   "outputs": [],
   "source": [
    "# unpack rest of values in the tuple\n",
    "sample_tuple1 = ('Pepperoni', 'Hawaiian ', 'Chicken Alfredo', 'Vegetarian ', 'Margherita')\n",
    "(house_type1, house_type2, *other_house_types) = sample_tuple1\n",
    "print(house_type1)\n"
   ]
  },
  {
   "cell_type": "markdown",
   "metadata": {},
   "source": [
    "## Sets (Conjuntos) <a class=\"anchor\" id=\"sets\"></a>"
   ]
  },
  {
   "cell_type": "markdown",
   "metadata": {},
   "source": [
    "Un set es estructura de datos secuencial que incluye las siguientes características:\n",
    "- Se crea con {}\n",
    "- Es inmutable, pero podemos añadir y eliminar objetos\n",
    "- No esta ordenada ni indexada\n",
    "- No soporta valores duplicados\n",
    "- Soporta diferentes tipos de datos"
   ]
  },
  {
   "cell_type": "code",
   "execution_count": null,
   "metadata": {},
   "outputs": [],
   "source": [
    "sample_set1 = {'Pensies', 'Sunflower', 'Pimrose', 'Marigolds', 'Baneberry'} # types of flowers set"
   ]
  },
  {
   "cell_type": "markdown",
   "metadata": {},
   "source": [
    "Para mostrar un elemento del set necesitamos iterar sobre los elementos de esté"
   ]
  },
  {
   "cell_type": "code",
   "execution_count": null,
   "metadata": {},
   "outputs": [],
   "source": [
    "# iterete over the set and display items\n",
    "for flower in sample_set1:\n",
    "  print(flower)\n",
    "\n",
    "# check if an items exists in the set\n",
    "print('sunflower' in sample_set1)\n"
   ]
  },
  {
   "cell_type": "markdown",
   "metadata": {},
   "source": [
    "No podemos modificar los elementos una vez creados, pero podemos añadir elementos:\n",
    "- add() – Añade un único elemento\n",
    "- update() – Añade múltiples elementos, pueden ser otras estructuras de datos secuenciales \n",
    "\n",
    "Para eliminar elementos tenemos los siguientes métodos:\n",
    "- remove() – Provoca un error si el elemento no existe\n",
    "- discard() – No provoca error si el elemento no existe\n"
   ]
  },
  {
   "cell_type": "markdown",
   "metadata": {},
   "source": [
    "## Diccionarios <a class=\"anchor\" id=\"diccionarios\"></a>"
   ]
  },
  {
   "cell_type": "markdown",
   "metadata": {},
   "source": [
    "Es una estructura de datos secuencial que almacena datos de tipo clave-valor.\n",
    "- Se crea con {}\n",
    "- Están ordenados\n",
    "- No puede incluir duplicados\n",
    "- La clave sólo puede ser un elemento, el valor puede ser de cualquier tipo"
   ]
  },
  {
   "cell_type": "code",
   "execution_count": null,
   "metadata": {},
   "outputs": [],
   "source": [
    "# dictionary\n",
    "sample_dict = {\n",
    "        \"year\": 2022,\n",
    "        \"blogname\": \"Machine learning nuggets\",\n",
    "        \"email\": \"user@machinelearningnuggets.com\",\n",
    "        \"about\": \"Machine Learning and Data Science\",\n",
    "}\n",
    "print(type(sample_dict))\n"
   ]
  },
  {
   "cell_type": "markdown",
   "metadata": {},
   "source": [
    "#### Acceso a los elementos de un diccionario"
   ]
  },
  {
   "cell_type": "code",
   "execution_count": null,
   "metadata": {},
   "outputs": [],
   "source": [
    "blog_name = sample_dict['blogname']\n",
    "print(sample_dict.keys()) # displays a list of all keys\n",
    "print(sample_dict.values()) # displays a list of all values"
   ]
  },
  {
   "cell_type": "markdown",
   "metadata": {},
   "source": [
    "#### Actualizar un diccionario \n",
    "Se puede hacer añadiendo elementos nuevos o modificando los existentes."
   ]
  },
  {
   "cell_type": "code",
   "execution_count": null,
   "metadata": {},
   "outputs": [],
   "source": [
    "# change the item at index 2\n",
    "sample_dict[\"featured\"][2] = 'How to build CNN in TensorFlow'\n",
    "# Add new item to the dict\n",
    "sample_dict['posts'] = 30 # add item"
   ]
  },
  {
   "cell_type": "markdown",
   "metadata": {},
   "source": [
    "#### Eliminar elementos"
   ]
  },
  {
   "cell_type": "code",
   "execution_count": null,
   "metadata": {},
   "outputs": [],
   "source": [
    "sample_dict.pop(\"year\") # Remove year with pop() method\n",
    "del sample_dict[\"email\"] # Remove email with del keyword\n",
    "sample_dict.clear() # Empty the entire dict with clear() method"
   ]
  },
  {
   "cell_type": "markdown",
   "metadata": {},
   "source": [
    "## Estructuras condicionales <a class=\"anchor\" id=\"estructuras-condicionales\"></a>\n"
   ]
  },
  {
   "cell_type": "markdown",
   "metadata": {},
   "source": [
    "Ejemplo de estructura condicional anidada con declaraciones if, elif, else"
   ]
  },
  {
   "cell_type": "code",
   "execution_count": null,
   "metadata": {},
   "outputs": [],
   "source": [
    "todo_list = ['Read', 'code', 'watch']\n",
    "if len(todo_list) < 4:\n",
    "    print('Todo has less than 4 items')\n",
    "    if len(todo_list) == 0:\n",
    "        print('Todo is empty')\n",
    "    elif len(todo_list) == 1:\n",
    "        print('Todo has 1 item')\n",
    "    else:\n",
    "        print('Todo has 3 items')\n",
    "else:\n",
    "    print('Todo has more than 4 items')"
   ]
  },
  {
   "cell_type": "markdown",
   "metadata": {},
   "source": [
    "#### Operador ternario\n",
    "Es una forma abreviada de un condicional if-else\n"
   ]
  },
  {
   "cell_type": "code",
   "execution_count": null,
   "metadata": {},
   "outputs": [],
   "source": [
    "print('Todo has more than 4 items') if len(todo_list) > 4 else print('To do has less than 4 items')"
   ]
  },
  {
   "cell_type": "markdown",
   "metadata": {},
   "source": [
    "## Estructuras repetitivas <a class=\"anchor\" id=\"estructuras-repetitivas\"></a>"
   ]
  },
  {
   "cell_type": "markdown",
   "metadata": {},
   "source": [
    "Antes de que comience el bucle, se evalúa la secuencia, se asigna el valor al primer elemento de la secuencia y se ejecuta el bloque de código."
   ]
  },
  {
   "cell_type": "code",
   "execution_count": null,
   "metadata": {},
   "outputs": [],
   "source": [
    "flower_types = ['Pensies', 'Sunflower', 'Pimrose', 'Marigolds', 'Baneberry']\n",
    "for value in flower_types:\n",
    "\tprint(value)"
   ]
  },
  {
   "cell_type": "markdown",
   "metadata": {},
   "source": [
    "#### Función range()\n",
    "Nos permite especificar el numero de repeticiones del bucle."
   ]
  },
  {
   "cell_type": "code",
   "execution_count": null,
   "metadata": {},
   "outputs": [],
   "source": [
    "for number in range(10, 20, 2):\n",
    "\tprint(number)\n"
   ]
  },
  {
   "cell_type": "markdown",
   "metadata": {},
   "source": [
    "#### Condición while"
   ]
  },
  {
   "cell_type": "code",
   "execution_count": null,
   "metadata": {},
   "outputs": [],
   "source": [
    "counter = 0 #initialize loop counter\n",
    "while counter < 5:\n",
    "\tcounter = counter + 1 # increment count by 1 for each iteration\n",
    "\tprint('Learning Python')\n",
    "print('I am here since the condition is false!')"
   ]
  },
  {
   "cell_type": "markdown",
   "metadata": {},
   "source": [
    "#### Declaraciones de control\n",
    "- Break: La sentencia break detiene un bucle antes de que recorra todos los elementos.\n",
    "- Continue: Esta sentencia salta la iteración actual y pasa a la siguiente.\n"
   ]
  },
  {
   "cell_type": "markdown",
   "metadata": {},
   "source": [
    "## Funciones <a class=\"anchor\" id=\"funciones\"></a>"
   ]
  },
  {
   "cell_type": "code",
   "execution_count": null,
   "metadata": {},
   "outputs": [],
   "source": [
    "# Ejemplo function \n",
    "def area(shape, length, breath):\n",
    "  area = length * breath\n",
    "  return area\n",
    "\n",
    "# Llamada\n",
    "print(area('Square', 20, 20))"
   ]
  },
  {
   "cell_type": "markdown",
   "metadata": {},
   "source": [
    "#### *Args y **kwargs\n",
    "Cuando definimos una función, pero no estaos seguros del número de argumentos contendrá. Podemos crear listas de argumentos precedente de * o ** que serán pasadas a la función."
   ]
  },
  {
   "cell_type": "code",
   "execution_count": null,
   "metadata": {},
   "outputs": [],
   "source": [
    "def total_sales(*args):\n",
    "    total = 0\n",
    "    for sale in args:\n",
    "        total = total + sale\n",
    "    return total\n",
    "print('Total sales:', total_sales(4000, 10000, 5000, 15000, 2000))"
   ]
  },
  {
   "cell_type": "markdown",
   "metadata": {},
   "source": [
    "#### Funciones lambda"
   ]
  },
  {
   "cell_type": "markdown",
   "metadata": {},
   "source": [
    "Funciones anónimas, se definen sin nombre. Args representa el número de argumentos, estas funciones pueden tener los argumentos que sean necesarios, pero solo una expresión será evaluada y devuelta."
   ]
  },
  {
   "cell_type": "code",
   "execution_count": null,
   "metadata": {},
   "outputs": [],
   "source": [
    "square = lambda num:num * num\n",
    "print(square(10))"
   ]
  },
  {
   "cell_type": "markdown",
   "metadata": {},
   "source": [
    "#### Map Function"
   ]
  },
  {
   "cell_type": "markdown",
   "metadata": {},
   "source": [
    "La función map() transforma todos los elementos de un iterable sin utilizar explícitamente el bucle for. La utilizamos cuando queremos aplicar una función de transformación a cada elemento y convertirlos en un nuevo iterable."
   ]
  },
  {
   "cell_type": "code",
   "execution_count": 6,
   "metadata": {},
   "outputs": [
    {
     "name": "stdout",
     "output_type": "stream",
     "text": [
      "<map object at 0x000001AA634FC610>\n"
     ]
    }
   ],
   "source": [
    "# first define the transformation function\n",
    "def reverse(str):\n",
    "    string = \" \"\n",
    "    for i in str:\n",
    "        string = i + string\n",
    "    return string\n",
    "    \n",
    "# the list of words\n",
    "words = ['Data science', 'Nuggets', 'Python', 'Learn']\n",
    "\n",
    "# Apply the map() function\n",
    "reversed_words = map(reverse, words) # returns the map object\n",
    "\n",
    "print(reversed_words)"
   ]
  },
  {
   "cell_type": "markdown",
   "metadata": {},
   "source": [
    "Después de utilizar la función map() obtenemos un objeto no legible. Necesitamos hacer uso del método list() sobre él para convertir el objeto de nuevo en una lista."
   ]
  },
  {
   "cell_type": "code",
   "execution_count": 7,
   "metadata": {},
   "outputs": [
    {
     "name": "stdout",
     "output_type": "stream",
     "text": [
      "Reversed Words: ['ecneics ataD ', 'stegguN ', 'nohtyP ', 'nraeL ']\n"
     ]
    }
   ],
   "source": [
    "print('Reversed Words:', list(reversed_words))"
   ]
  },
  {
   "cell_type": "markdown",
   "metadata": {},
   "source": [
    "## Datatime <a class=\"anchor\" id=\"datatime\"></a>"
   ]
  },
  {
   "cell_type": "markdown",
   "metadata": {},
   "source": [
    "Un datetime es una fecha más la hora. Python tiene un módulo llamado datetime que podemos importar ya que proporciona clases para trabajar con fechas y horas."
   ]
  },
  {
   "cell_type": "code",
   "execution_count": 4,
   "metadata": {},
   "outputs": [
    {
     "name": "stdout",
     "output_type": "stream",
     "text": [
      "2023-09-04 20:23:36.301593\n",
      "Year:  2022\n",
      "Month:  August\n",
      "Day:  Tuesday\n"
     ]
    }
   ],
   "source": [
    "import datetime\n",
    "\n",
    "today = datetime.datetime.now()\n",
    "print(today)\n",
    "\n",
    "today = datetime.datetime(2022, 8, 9) # year, month, day\n",
    "print('Year: ', today.strftime('%Y'))\n",
    "print('Month: ', today.strftime('%B'))\n",
    "print('Day: ', today.strftime('%A'))"
   ]
  },
  {
   "cell_type": "markdown",
   "metadata": {},
   "source": [
    "## Excepciones <a class=\"anchor\" id=\"excepciones\"></a>"
   ]
  },
  {
   "cell_type": "markdown",
   "metadata": {},
   "source": [
    "Una excepción Python es un evento que interrumpe el flujo normal esperado de un programa y representa el error. Es el error planteado por un programa sintácticamente correcto."
   ]
  },
  {
   "cell_type": "markdown",
   "metadata": {},
   "source": [
    "#### Catching exceptions\n",
    "Python tiene un bloque de código try y except que nos permite manejar las excepciones que surjan. Tiene la siguiente sintaxis:"
   ]
  },
  {
   "cell_type": "code",
   "execution_count": 20,
   "metadata": {},
   "outputs": [
    {
     "name": "stdout",
     "output_type": "stream",
     "text": [
      "Test\n",
      "Visualizado con éxito\n"
     ]
    }
   ],
   "source": [
    "name = 'Test'\n",
    "try:\n",
    "\tprint(name)\n",
    "except:\n",
    "\tprint('Algo salio mal')\n",
    "else:\n",
    "\tprint('Visualizado con éxito')"
   ]
  },
  {
   "cell_type": "markdown",
   "metadata": {},
   "source": [
    "#### The except block with exception nam\n",
    "Es una buena práctica especificar el nombre de la excepción que se intenta atrapar. Esto se debe a que un bloque except sin un nombre de excepción atrapa todas las excepciones, lo que dificulta encontrar el error exacto en el programa."
   ]
  },
  {
   "cell_type": "code",
   "execution_count": 24,
   "metadata": {},
   "outputs": [
    {
     "name": "stdout",
     "output_type": "stream",
     "text": [
      "La variable no está definida!\n",
      "Bienvenido Test !!!\n"
     ]
    }
   ],
   "source": [
    "# Handle exception\n",
    "name = 'Test'\n",
    "try:\n",
    "  print('Hello, ', namee)\n",
    "except NameError :\n",
    "  print('La variable no está definida!') \n",
    "finally:\n",
    "  print('Bienvenido', name, '!!!') "
   ]
  },
  {
   "cell_type": "markdown",
   "metadata": {},
   "source": [
    "## Ficheros <a class=\"anchor\" id=\"ficheros\"></a>"
   ]
  },
  {
   "cell_type": "markdown",
   "metadata": {},
   "source": [
    "#### Reading files"
   ]
  },
  {
   "cell_type": "markdown",
   "metadata": {},
   "source": [
    "Para abrir un archivo utilizaremos la función open especificando el nombre el fichero. Está función devuelve un objeto file handle si el fichero existe y tenemos permisos de lectura. Para poder leer el fichero necesitamos iterar el archivo con un bucle, dado que esté podría ser demasiado largo para ser visualizado, python se encarga de separar el texto en distintas líneas."
   ]
  },
  {
   "cell_type": "code",
   "execution_count": 2,
   "metadata": {},
   "outputs": [
    {
     "name": "stdout",
     "output_type": "stream",
     "text": [
      "The name Artyom appears 5 times\n"
     ]
    }
   ],
   "source": [
    "# fname = input('Enter the file name: ')\n",
    "fname = '../data/Others/text.txt'\n",
    "try:\n",
    "    fhand = open(fname)\n",
    "except:\n",
    "    print('File cannot be opened:', fname)\n",
    "    exit()\n",
    "count = 0\n",
    "for line in fhand:\n",
    "    if 'Artyom' in line:\n",
    "        count = count + 1\n",
    "print('The name Artyom appears', count, 'times')\n",
    "    # print(line)"
   ]
  },
  {
   "cell_type": "markdown",
   "metadata": {},
   "source": [
    "#### Writing Files"
   ]
  },
  {
   "cell_type": "markdown",
   "metadata": {},
   "source": [
    "Para poder escribir en un fichero primero debemos abrirlo con el comando open() y un segundo parámetro 'w'.\n",
    "IMPORTANTE: Si el archivo existe se sobreescribe, y si no existe se creará."
   ]
  },
  {
   "cell_type": "code",
   "execution_count": 4,
   "metadata": {},
   "outputs": [
    {
     "name": "stdout",
     "output_type": "stream",
     "text": [
      "<_io.TextIOWrapper name='output.txt' mode='w' encoding='cp1252'>\n"
     ]
    }
   ],
   "source": [
    "fout = open('output.txt', 'w')\n",
    "print(fout)\n",
    "line1 = \"You idiot! You were clearly told,\\n\"\n",
    "fout.write(line1)\n",
    "fout.close()"
   ]
  },
  {
   "cell_type": "markdown",
   "metadata": {},
   "source": [
    "## Regexp <a class=\"anchor\" id=\"regexp\"></a>"
   ]
  },
  {
   "cell_type": "markdown",
   "metadata": {},
   "source": [
    "Las expresiones regulares nos dan la posibilidad para buscar y analizar cadenas."
   ]
  },
  {
   "cell_type": "code",
   "execution_count": 6,
   "metadata": {},
   "outputs": [
    {
     "name": "stdout",
     "output_type": "stream",
     "text": [
      "â€žYou idiot! You were clearly told. If they donâ€Ÿt respond, then shoot immediately! How do you\n"
     ]
    }
   ],
   "source": [
    "import re\n",
    "\n",
    "hand = open('../data/Others/text.txt')\n",
    "for line in hand:\n",
    "    line = line.rstrip()\n",
    "    if re.search('idiot', line):\n",
    "        print(line)"
   ]
  },
  {
   "cell_type": "markdown",
   "metadata": {},
   "source": [
    "#### Escapar caracteres"
   ]
  },
  {
   "cell_type": "markdown",
   "metadata": {},
   "source": [
    "Dado que utilizamos caracteres especiales en las expresiones regulares para hacer coincidir el principio o el final de una línea o especificar comodines, necesitamos una forma de indicar que estos caracteres son \"normales\" y que queremos hacer coincidir el carácter real, como un signo de dólar o un signo de intercalación.\n",
    "\n",
    "Podemos indicar que queremos que coincida simplemente con un carácter anteponiéndole una barra invertida. Por ejemplo, podemos encontrar cantidades de dinero con la siguiente expresión regular."
   ]
  },
  {
   "cell_type": "code",
   "execution_count": 7,
   "metadata": {},
   "outputs": [
    {
     "name": "stdout",
     "output_type": "stream",
     "text": [
      "['$10.00']\n"
     ]
    }
   ],
   "source": [
    "import re\n",
    "x = 'We just received $10.00 for cookies.'\n",
    "y = re.findall('\\$[0-9.]+',x)\n",
    "print(y)"
   ]
  },
  {
   "cell_type": "markdown",
   "metadata": {},
   "source": [
    "## Networking <a class=\"anchor\" id=\"networking\"></a>"
   ]
  },
  {
   "cell_type": "markdown",
   "metadata": {},
   "source": [
    "El protocolo de red que impulsa la web es en realidad bastante simple y hay un soporte incorporado en Python llamado sockets.\n",
    "\n",
    "Un socket es muy parecido a un archivo, excepto que un único socket proporciona una conexión bidireccional entre dos programas.\n",
    "\n",
    "Pero si intentas leer un socket cuando el programa en el otro extremo del socket no ha enviado ningún dato, simplemente te sientas y esperas.\n",
    "\n",
    "Así que una parte importante de los programas que se comunican a través de Internet es tener algún tipo de protocolo. Un protocolo es un conjunto de reglas precisas que determinan quién debe ir primero, qué debe hacer, y luego cuáles son las respuestas a ese mensaje, y quién envía a continuación, y así sucesivamente."
   ]
  },
  {
   "cell_type": "code",
   "execution_count": 1,
   "metadata": {},
   "outputs": [
    {
     "name": "stdout",
     "output_type": "stream",
     "text": [
      "HTTP/1.1 200 OK\n",
      "Date: Wed, 09 Aug 2023 13:49:00 GMT\n",
      "Server: Apache/2.4.18 (Ubuntu)\n",
      "Last-Modified: Sat, 13 May 2017 11:22:22 GMT\n",
      "ETag: \"a7-54f6609245537\"\n",
      "Accept-Ranges: bytes\n",
      "Content-Length: 167\n",
      "Cache-Control: max-age=0, no-cache, no-store, must-revalidate\n",
      "Pragma: no-cache\n",
      "Expires: Wed, 11 Jan 1984 05:00:00 GMT\n",
      "Connection: close\n",
      "Content-Type: text/plain\n",
      "\n",
      "But soft what light through yonder window breaks\n",
      "It is the east and Juliet is the sun\n",
      "Arise fair sun and kill the envious moon\n",
      "Who is already s\n",
      "ick and pale with grief\n",
      "\n"
     ]
    }
   ],
   "source": [
    "import socket\n",
    "\n",
    "mysock = socket.socket(socket.AF_INET, socket.SOCK_STREAM)\n",
    "mysock.connect(('data.pr4e.org', 80))\n",
    "cmd = 'GET http://data.pr4e.org/romeo.txt HTTP/1.0\\r\\n\\r\\n'.encode()\n",
    "mysock.send(cmd)\n",
    "\n",
    "while True:\n",
    "    data = mysock.recv(512)\n",
    "    if (len(data) < 1):\n",
    "        break\n",
    "    print(data.decode())\n",
    "mysock.close()"
   ]
  },
  {
   "cell_type": "markdown",
   "metadata": {},
   "source": [
    "Lo primero que vemos son los headers enviados por el servidor web.\n",
    "\n",
    "Primero se establece una conexión con el servidor al puerto 80 (HTTP),este programa hace la función de un navegador por eso enviamos una petición GET. Después con un bucle a la espera recibimos la información en chunks de 512 caracteres y mostramos los datos."
   ]
  },
  {
   "cell_type": "markdown",
   "metadata": {},
   "source": [
    "<button type=\"button\">[Volver](../Notebooks/Index.ipynb)</button>"
   ]
  }
 ],
 "metadata": {
  "kernelspec": {
   "display_name": "Python 3",
   "language": "python",
   "name": "python3"
  },
  "language_info": {
   "codemirror_mode": {
    "name": "ipython",
    "version": 3
   },
   "file_extension": ".py",
   "mimetype": "text/x-python",
   "name": "python",
   "nbconvert_exporter": "python",
   "pygments_lexer": "ipython3",
   "version": "3.8.6"
  },
  "orig_nbformat": 4
 },
 "nbformat": 4,
 "nbformat_minor": 2
}
