{
 "cells": [
  {
   "cell_type": "markdown",
   "metadata": {},
   "source": [
    "## Data Mining\n",
    "![title](../img/Divider.png)"
   ]
  },
  {
   "cell_type": "markdown",
   "metadata": {},
   "source": [
    "#### Introducción"
   ]
  },
  {
   "cell_type": "markdown",
   "metadata": {},
   "source": [
    "La minería de datos incluye varios algoritmos y técnicas de búsqueda en bases de datos, inferencia de relaciones entre datos, reconocimiento de patrones y clasificación de patrones. El reconocimiento de patrones es el proceso de comparar una observación de muestra con un conjunto fijo de patrones (como los almacenados en una base de datos) para buscar una coincidencia óptima. El reconocimiento facial, el reconocimiento de voz, el reconocimiento de caracteres, el reconocimiento de huellas dactilares y la comparación de cadenas de texto son ejemplos de búsqueda y reconocimiento de patrones.\n",
    "\n",
    "\n",
    "**Ejemplos de aplicaciones de la minería de datos**\n",
    "\n",
    "A principios de la década de 1990 se popularizó la expresión \"minería de datos\". En la actualidad, aprendizaje estadístico, análisis de datos y ciencia de datos son otros términos de uso común. Dado que los datos se han vuelto muy baratos y los métodos de recopilación de datos casi automatizados, en muchos campos, el éxito depende de la utilización eficiente e inteligente de los datos recopilados. En este sentido, los esfuerzos de minería de datos son omnipresentes, algunos ejemplos:\n",
    "\n",
    "- Las empresas se benefician de la minería de datos\n",
    "    - Grandes minoristas como Walmart utilizan información sobre la afluencia a las tiendas, las campañas publicitarias e incluso las previsiones meteorológicas para predecir las ventas y abastecerse en consecuencia.\n",
    "    - Las empresas de tarjetas de crédito extraen información de los registros de transacciones para detectar el uso fraudulento de sus tarjetas basándose en los patrones de compra de los consumidores.\n",
    "- En genómica, la investigación se acelera con métodos computacionales\n",
    "    - El Proyecto Genoma Humano acumula montones de datos, pero ponerlos al servicio de la humanidad para desarrollar un nuevo fármaco y eliminar enfermedades exigirá reconocer patrones en los datos, algo que se maneja en bioinformática.\n",
    "    - Los científicos utilizan datos de micromatrices para observar la expresión de los genes, y se emplean sofisticadas técnicas de análisis de datos para tener en cuenta el ruido de fondo y la normalización de los datos.\n",
    "- Recuperación de información\n",
    "    - En Internet se acumulan terabytes de datos, incluidos los de Facebook y Twitter, así como los de Instagram y otras redes sociales.\n",
    "    - Otro aspecto de las redes sociales es la información multimedia que contiene archivos de datos visuales y sonoros.\n",
    "- Sistemas de comunicación\n",
    "    - El reconocimiento del habla es un ámbito en el que se han desarrollado importantes métodos de reconocimiento de patrones que se han trasladado a otros campos de aplicación.\n",
    "    - El análisis de imágenes es otra área importante de aplicación de la minería de datos, y las técnicas de reconocimiento facial forman parte de los dispositivos de seguridad"
   ]
  },
  {
   "cell_type": "markdown",
   "metadata": {},
   "source": [
    "#### La naturaleza del problema"
   ]
  },
  {
   "cell_type": "markdown",
   "metadata": {},
   "source": [
    "La perspicacia analítica no viene con ninguna aplicación de software; una aplicación de software potencia la perspicacia analítica. La aplicación ciega de software en un gran número de registros no proporcionará necesariamente una visión de los datos; más bien, es posible que en el fango de la información se pierdan inextricablemente todos los granos de verdad.\n",
    "\n",
    "Se centrara en el problema de la predicción. No es, ni mucho menos, el único problema del que puede ocuparse la minería de datos. Hay muchos otros temas que quedan fuera del alcance de este curso. La minería de datos es multidisciplinar y engloba métodos que tratan el escalado de datos de alta dimensión y flujos de datos de alta velocidad, la minería de datos distribuida, la minería en un entorno de red y muchas otras facetas. Este curso se centra en el aprendizaje estadístico y la predicción.\n",
    "\n",
    "El siguiente diagrama presenta los principales aspectos de un modelo de aprendizaje estadístico.\n",
    "<center><img src=\"../img/StatisticalLearning.jpeg\"/></center>"
   ]
  },
  {
   "cell_type": "markdown",
   "metadata": {},
   "source": [
    "En un problema de aprendizaje (predicción), existe un conjunto de características (X) y un conjunto de respuestas (Y). El predictor es una función matemática (f) que asigna X a Y.\n",
    "\n",
    "*El problema viene dado por cómo encontrar la función f.*\n",
    "\n",
    "Puede haber distintos enfoques para resolver el problema:\n",
    "- Problema de la función humana de predicción: Basándose en la experiencia individual y el conocimiento del ámbito. Los médicos preguntan a sus pacientes por los síntomas y, basándose en su experiencia, identifican la enfermedad.\n",
    "- Predictores generados por algoritmos de aprendizaje: \n",
    "    - El primer paso en cualquier proceso de construcción de modelos es comprender los datos, lo que puede hacerse gráfica o analíticamente. \n",
    "    - El segundo paso consiste en construir y evaluar un modelo (o un conjunto de modelos candidatos) a partir de los datos. \n",
    "    - El tercer paso evaluar el rendimiento del modelo, el enfoque estándar consiste en tomar una muestra aleatoria de los datos para construir el modelo y utilizar el resto de los datos para evaluarlo. \n",
    "        - La parte de la muestra que se utiliza para construir un modelo se denomina muestra de entrenamiento (conjunto de entrenamiento o datos de entrenamiento).\n",
    "        - La otra parte es la muestra de prueba (conjunto de prueba o datos de prueba). \n",
    "        - La muestra de entrenamiento se utiliza para desarrollar la relación entre X e Y, y los parámetros del modelo se estiman a partir de estos datos.\n",
    "        - La muestra de prueba sólo se utiliza cuando se finaliza un modelo entre unos cuantos modelos candidatos sólidos. \n",
    "        - El uso repetido de la muestra de prueba en el proceso de construcción del modelo anula su utilidad como árbitro final del modelo.\n",
    "\n",
    "Los algoritmos de aprendizaje exploran el conjunto de datos dado y extraen una relación entre X e Y. El resultado de los algoritmos de aprendizaje es una función que asigna X a Y. Esto se conoce como **algoritmo de aprendizaje supervisado**. En los **algoritmos de aprendizaje no supervisado**, la respuesta Y no se conoce o no se tiene en cuenta al desarrollar el algoritmo.\n",
    "\n",
    "\n",
    "**Aprendizaje supervisado frente a aprendizaje no supervisado**\n",
    "\n",
    "Si Y está disponible en los datos de entrenamiento, el método de aprendizaje es supervisado. Si Y no está disponible (o se ignora aunque esté disponible), el método es no supervisado.\n",
    "\n",
    "El aprendizaje supervisado se divide en dos tipos:\n",
    "- Regresión: La respuesta Y es cuantitativa (Medidas o recuentos, registrados como valores numéricos)\n",
    "- Clasificación: La respuesta es cualitativa o categórica (Grupo o categorías), el conjunto de etiqyetas se designa G ∈ G = {1, 2, ..., k}\n",
    " \n",
    "\n",
    "**El espectro del aprendizaje**\n",
    "\n",
    "Desde una perspectiva histórica, existen dos extremos del espectro con respecto al aprendizaje o la clasificación. En un extremo se encuentran modelos simples pero muy restringidos. Por otro lado, existen modelos muy complejos que podrían ser extremadamente flexibles. A lo largo de los años, las actividades de investigación han impulsado un compromiso o equilibrio entre la complejidad y la flexibilidad del modelo. La regularización se agrega a los modelos complejos por un lado y la extensión del modelo a los modelos simples por el otro. ¡Lograr el equilibrio perfecto es el nombre del juego!\n",
    "\n",
    "Se espera que un algoritmo robusto obtenga buenos resultados en el caso de los datos de prueba; es decir, el algoritmo tendrá un alto poder predictivo (se ajustará bien a los datos).\n",
    "Al ajustar los datos de entrenamiento, el modelo no debe aproximarse demasiado a los datos porque, en el futuro, cuando se obtengan nuevos datos, no hay garantía de que sean una réplica exacta de los datos de entrenamiento.\n",
    "\n",
    "El error de entrenamiento refleja si los datos se ajustan bien. El error de prueba refleja si el predictor funciona realmente con los nuevos datos. Un modelo con el menor error de entrenamiento no proporcionará necesariamente el menor error de prueba.\n",
    "\n",
    "- Error de entrenamiento frente a error de ensayo\n",
    "- Sesgo frente a varianza\n",
    "    - El sesgo es una medida del grado en que un modelo se asemeja a la realidad. El sesgo es la parte sistemática de la diferencia entre el modelo y la verdad.\n",
    "    - La varianza, por su parte, es una medida de las diferencias en la estimación del predictor cuando se utilizan distintos datos de entrenamiento. La varianza tiende a ser mayor en los modelos más complejos. Encontrar un equilibrio entre el sesgo y la varianza es el objetivo de desarrollar un modelo predictivo óptimo, ya que la precisión de un modelo se ve afectada por ambos.\n",
    "\n",
    "Por tanto, un modelo más simple tiende a ser más robusto que uno complejo, en el sentido de que puede tener un alto poder predictivo. Un modelo complejo puede seguir demasiado de cerca el patrón de los datos de entrenamiento y, por tanto, su rendimiento en los datos de prueba puede ser peor. Por otro lado, un modelo simple no se ajusta agresivamente a los datos de entrenamiento. Por tanto, siempre hay un equilibrio que se manifiesta a través de los siguientes conceptos equivalentes.\n",
    "\n",
    "Un modelo sobreajustado se ajusta demasiado a los datos de entrenamiento. Puede tener un sesgo bajo, pero su varianza será alta. Esto indica que el predictor funciona muy bien con los datos de entrenamiento, pero su rendimiento es sustancialmente peor con los datos de prueba. Si el modelo es más complejo, tiende a arrojar un riesgo empírico menor, pero al mismo tiempo es menos robusto, es decir, tiene mayor varianza.\n"
   ]
  }
 ],
 "metadata": {
  "kernelspec": {
   "display_name": "Python 3",
   "language": "python",
   "name": "python3"
  },
  "language_info": {
   "name": "python",
   "version": "3.8.6"
  },
  "orig_nbformat": 4
 },
 "nbformat": 4,
 "nbformat_minor": 2
}
