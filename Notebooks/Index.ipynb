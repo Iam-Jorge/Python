{
 "cells": [
  {
   "cell_type": "markdown",
   "metadata": {},
   "source": [
    "# Índice"
   ]
  },
  {
   "cell_type": "markdown",
   "metadata": {},
   "source": [
    "- [Jupyter](../Practice/Jupyter.ipynb)\n",
    "- [Python](../Practice/Python.ipynb)\n",
    "- [NumPy](../Practice/NumPy.ipynb)\n",
    "- [Pandas](../Practice/Pandas.ipynb)\n",
    "- [Data Science](#second-bullet)\n",
    "- [Data Science](#second-bullet)\n"
   ]
  }
 ],
 "metadata": {
  "kernelspec": {
   "display_name": "Python 3",
   "language": "python",
   "name": "python3"
  },
  "language_info": {
   "name": "python",
   "version": "3.8.6"
  },
  "orig_nbformat": 4
 },
 "nbformat": 4,
 "nbformat_minor": 2
}
