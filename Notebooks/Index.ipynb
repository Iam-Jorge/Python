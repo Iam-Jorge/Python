{
 "cells": [
  {
   "cell_type": "markdown",
   "metadata": {},
   "source": [
    "# Index"
   ]
  },
  {
   "cell_type": "markdown",
   "metadata": {},
   "source": [
    "- [Jupyter](Jupyter.ipynb)\n",
    "- [Python](Python.ipynb)\n",
    "- [NumPy](NumPy.ipynb)\n",
    "- [Pandas](Pandas.ipynb)\n",
    "- [Data Science](DataScience.ipynb)\n",
    "- [Data Mining](DataMining.ipynb)\n",
    "- [Artificial Intelligence](AI.ipynb)\n",
    "\n",
    "\n",
    "\n",
    "\n",
    "\n",
    "\n",
    "\n",
    "\n",
    "\n",
    "\n",
    "\n",
    "\n",
    "\n",
    "\n",
    "\n",
    "\n"
   ]
  },
  {
   "cell_type": "markdown",
   "metadata": {},
   "source": [
    "Libraries used and needed to run the code.\n",
    "\n",
    "> pip install numpy jupyterlab notebook DateTime pandas mimesis matplotlib seaborn scipy pywaffle pandoc scikit-learn statsmodels"
   ]
  }
 ],
 "metadata": {
  "kernelspec": {
   "display_name": "Python 3",
   "language": "python",
   "name": "python3"
  },
  "language_info": {
   "name": "python",
   "version": "3.8.6"
  },
  "orig_nbformat": 4
 },
 "nbformat": 4,
 "nbformat_minor": 2
}
