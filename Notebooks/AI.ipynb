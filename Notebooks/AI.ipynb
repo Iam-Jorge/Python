{
 "cells": [
  {
   "cell_type": "markdown",
   "metadata": {},
   "source": [
    "# Inteligencia artificial\n",
    "![title](../img/TitleDivider.png)"
   ]
  },
  {
   "cell_type": "markdown",
   "metadata": {},
   "source": [
    "- [1. Introducción](#t1)\n",
    "    - [1.1. Weak AI vs. Strong AI](#t1_1)\n",
    "    - [1.2. Definición de AI y Test de Turing](#t1_2)\n"
   ]
  },
  {
   "cell_type": "markdown",
   "metadata": {},
   "source": [
    "## 1. Introducción <a class=\"anchor\" id=\"t1\"></a>\n",
    "![title](../img/Divider.png)"
   ]
  },
  {
   "cell_type": "markdown",
   "metadata": {},
   "source": [
    "Originalmente, los ordenadores fueron inventados por Charles Babbage para operar con números siguiendo un procedimiento bien definido: un algoritmo. Los ordenadores modernos, aunque mucho más avanzados que el modelo original propuesto en el siglo XIX, siguen la misma idea de cálculos controlados. Así, es posible programar un ordenador para que haga algo si conocemos la secuencia exacta de pasos que hay que dar para conseguir el objetivo.\n",
    "\n",
    "Sin embargo, hay algunas tareas que no sabemos resolver explícitamente. Pensemos en determinar la edad de una persona a partir de su fotografía. De alguna manera aprendemos a hacerlo, porque hemos visto muchos ejemplos de personas de distinta edad, pero no podemos explicar explícitamente cómo lo hacemos, ni podemos programar el ordenador para que lo haga. Este es exactamente el tipo de tareas que interesan a la Inteligencia Artificial (IA para abreviar).\n",
    "\n",
    "✅ Piense en algunas tareas que podría descargar en un ordenador y que se beneficiarían de la IA. Piensa en los campos de las finanzas, la medicina y las artes: ¿cómo se benefician hoy estos campos de la IA?"
   ]
  },
  {
   "cell_type": "markdown",
   "metadata": {},
   "source": [
    "### 1.1. Weak AI vs. Strong AI <a class=\"anchor\" id=\"t1_1\"></a>"
   ]
  },
  {
   "cell_type": "markdown",
   "metadata": {},
   "source": [
    "La tarea de resolver un problema específico de tipo humano, como determinar la edad de una persona a partir de una foto, puede denominarse IA débil, porque estamos creando un sistema para una sola tarea, y no un sistema que pueda resolver muchas tareas, como puede hacer un ser humano. Por supuesto, desarrollar un sistema informático inteligente en general también es extremadamente interesante desde muchos puntos de vista, incluso para los estudiantes de filosofía de la conciencia. Un sistema así se llamaría IA fuerte o Inteligencia General Artificial (AGI)."
   ]
  },
  {
   "cell_type": "markdown",
   "metadata": {},
   "source": [
    "### 1.2. Definición de AI y Test de Turing <a class=\"anchor\" id=\"t1_2\"></a>"
   ]
  }
 ],
 "metadata": {
  "kernelspec": {
   "display_name": "Python 3",
   "language": "python",
   "name": "python3"
  },
  "language_info": {
   "name": "python",
   "version": "3.8.6"
  },
  "orig_nbformat": 4
 },
 "nbformat": 4,
 "nbformat_minor": 2
}
