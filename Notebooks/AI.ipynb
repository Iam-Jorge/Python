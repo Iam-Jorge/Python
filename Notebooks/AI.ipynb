{
 "cells": [
  {
   "cell_type": "markdown",
   "metadata": {},
   "source": [
    "# Inteligencia artificial\n",
    "![title](../img/TitleDivider.png)"
   ]
  },
  {
   "cell_type": "markdown",
   "metadata": {},
   "source": [
    "- [1. Introducción](#t1)\n",
    "    - [1.1. ¿Qué es la IA?](#t1_1)\n",
    "    - [1.2. Definición de AI y Test de Turing](#t1_2)\n"
   ]
  },
  {
   "cell_type": "markdown",
   "metadata": {},
   "source": [
    "## 1. ¿Introducción? <a class=\"anchor\" id=\"t1\"></a>\n",
    "![title](../img/Divider.png)"
   ]
  },
  {
   "cell_type": "markdown",
   "metadata": {},
   "source": [
    "Durante miles de años, hemos tratado de entender cómo pensamos; es decir, entender cómo un simple puñado de materia puede percibir, entender, predecir y manipular un mundo mucho más grande y complicado que ella misma. El campo de la inteligencia artificial,\n",
    "o IA, va más allá: no sólo intenta comprender, sino que también se esfuerza en construir entidades inteligentes.\n",
    "\n",
    "La IA es una de las ciencias más recientes. El trabajo comenzó poco después de la Segunda Guerra Mundial, y el nombre se acuñó en 1956.\n",
    "\n",
    "La IA abarca en la actualidad una gran variedad de subcampos, la IA **sintetiza y automatiza** tareas intelectuales y es, por lo tanto, potencialmente relevante para cualquier ámbito de la actividad intelectual humana. En este sentido, es un campo genuinamente universal."
   ]
  },
  {
   "cell_type": "markdown",
   "metadata": {},
   "source": [
    "### 1.1. ¿Qué es la IA? <a class=\"anchor\" id=\"t1_1\"></a>"
   ]
  },
  {
   "cell_type": "markdown",
   "metadata": {},
   "source": [
    "A lo largo de la historia se han seguido los cuatro enfoques representados en la siguiente figura:\n",
    "\n",
    "<center><img src=\"../img/AI-Figura1-1.jpeg\"/></center>\n",
    "\n",
    "Las que aparecen en la parte superior se refieren a **_procesos mentales y al razonamiento_**, mientras que los de la parte inferior aluden a la **_conducta_**.\n",
    "Las definiciones de la izquierda miden el éxito en términos de la fidelidad en la forma de actuar de los **_humanos_**, mientras que las de la derecha toman como referencia un concepto ideal de inteligencia, que llamaremos **_racionalidad_**.\n",
    "\n",
    "> Un sistema es racional si hace «lo correcto», en función de su conocimiento.\n",
    "\n",
    "- Piensan como Humanos (Ciencia cognitiva)\n",
    "- Piensan racionalmente (Leyes del pensamiento)\n",
    "- Actúan como humanos (Prueba de Turing)\n",
    "- Actúan Racionalmente (Agente Racional)"
   ]
  },
  {
   "cell_type": "markdown",
   "metadata": {},
   "source": [
    "### Comportamiento humano: el enfoque de la Prueba de Turing\n",
    "\n",
    "La Prueba de Turing, propuesta por Alan Turing (1950), se diseñó para proporcionar una definición operacional y satisfactoria de inteligencia. En vez de proporcionar una lista larga y quizá controvertida de cualidades necesarias para obtener inteligencia artificialmente, él sugirió una prueba basada en la incapacidad de diferenciar entre entidades inteligentes indiscutibles y seres humanos.\n",
    "\n",
    "El computador supera la prueba si un evaluador (humano) no es capaz de distinguir si las respuestas, a una serie de preguntas planteadas, son de una persona o no.\n",
    "\n",
    "Para superar la prueba de Turing el computador debería poseer las siguientes capacidades:\n",
    "- Procesamiento de lenguaje natural que le permita comunicarse satisfactoriamente en inglés.\n",
    "- Representación del conocimiento para almacenar lo que se conoce o siente.\n",
    "- Razonamiento automático para utilizar la información almacenada para responder a preguntas y extraer nuevas conclusiones.\n",
    "- Aprendizaje automático para adaptarse a nuevas circunstancias y para detectar y extrapolar patrones.\n",
    "\n",
    "El test global añade:\n",
    "- Visión computacional para percibir objetos.\n",
    "- Robótica para manipular y mover objetos.\n",
    "\n",
    "Estas seis disciplinas abarcan la mayor parte de la IA, y Turing merece ser reconocido por diseñar una prueba que se conserva vigente después de 50 años.\n",
    "\n",
    "**IA débil vs. IA fuerte**\n",
    "\n",
    "La tarea de resolver un problema específico de tipo humano, como determinar la edad de una persona a partir de una foto, puede denominarse IA débil, porque estamos creando un sistema para una sola tarea, y no un sistema que pueda resolver muchas tareas, como puede hacer un ser humano estariamos hablando de IA fuerte o Inteligencia General Artificial (AGI)."
   ]
  },
  {
   "cell_type": "markdown",
   "metadata": {},
   "source": [
    "### Pensar como un humano: el enfoque del modelo cognitivo\n",
    "\n",
    "Para poder decir que un programa dado piensa como un humano, es necesario contar con un mecanismo para determinar cómo piensan los humanos. Es necesario penetrar en el funcionamiento de las mentes humanas. Hay dos formas de hacerlo:\n",
    "- Mediante introspección (intentando atrapar nuestros propios pensamientos conforme éstos van apareciendo).\n",
    "- Mediante experimentos psicológicos.\n",
    "\n",
    "Una vez se cuente con una teoría lo suficientemente precisa sobre cómo trabaja la mente, se podrá expresar esa teoría en la forma de un programa de computador.\n",
    "\n",
    "Si los datos de entrada/salida del programa y los tiempos de reacción son similares a los de un humano, existe la evidencia de que algunos de los mecanismos del programa se pueden comparar con los que utilizan los seres humanos. No basta con que el programa resielva correctamente los problemas, lo que interesa es seguir la pista de las etapas del proceso de razonamiento y compararlas con las seguidas por humanos a los que se les enfrentó a los mismos problemas. En el campo de la **_ciencia cognitiva_** convergen modelos computacionales de IA y técnicas experimentales de psicología intentando elaborar teorías precisas y verificables sobre el funcionamiento de la mente humana."
   ]
  },
  {
   "cell_type": "markdown",
   "metadata": {},
   "source": [
    "### Pensamiento racional: el enfoque de las «leyes del pensamiento»\n",
    "\n",
    "El filósofo griego Aristóteles fue uno de los primeros en intentar codificar la «manera correcta de pensar», es decir, un proceso de razonamiento irrefutable. Sus silogismos son esquemas de estructuras de argumentación mediante las que siempre se llega a conclusiones correctas si se parte de premisas correctas. (por ejemplo: «Sócrates es un hombre; todos los hombres son mortales; por lo tanto Sócrates es mortal»). Estas leyes de pensamiento supuestamente gobiernan la manera de operar de la mente; su estudio fue el\n",
    "inicio de un campo llamado **_lógica_**.\n",
    "\n",
    "En el siglo XIX, se desarrollo una notación precisa para definir sentencias sobre todo tipo de elementos del mundo y especificar relaciones entre ellos (compárese esto con la notación aritmética). Ya en 1965 existían programas que, en principio, resolvían cualquier problema resoluble descrito en notación lógica. La llamada tradición logista dentro del campo de la inteligencia artificial trata de construir sistemas inteligentes a partir de estos programas. Este enfoque presenta dos obstáculos:\n",
    "- No es fácil transformar conocimiento informal y expresarlo en los términos formales que requieren de notación lógica.\n",
    "- Hay una gran diferencia entre poder resolver un problema «en principio» y hacerlo en la práctica."
   ]
  },
  {
   "cell_type": "markdown",
   "metadata": {},
   "source": [
    "### Actuar de forma racional: el enfoque del agente racional\n",
    "\n",
    "“Actuar racionalmente consiste en realizar el conjunto de acciones que lleven a cumplir un objetivo de la mejor manera con el conocimiento que se tiene”. Por tanto, el comportamiento racional no requiere necesariamente de pensamiento (deliberación), y es totalmente independiente de las metas.\n",
    "\n",
    "La Racionalidad implica:\n",
    "- Exploración para recopilar información.\n",
    "- Aprendizaje de lo que percibe.\n",
    "- Autonomia para completar conocimiento parcial.\n",
    "\n",
    "Un **agente** es cualquier entidad autónoma (software, hardware o ambas) capaz de percibir su medioambiente con la ayuda de **sensores** y actuar en ese medio utilizando **actuadores**. El termino **percepción** se utiliza en este contexto para indicar que el agente puede recibir entradas en cualquier instante. La **secuencia de percepciones** de un agente refleja el historial completo de lo que el agente ha recibido.\n",
    "\n",
    "Un **agente racional**:\n",
    "- Hace lo correcto para obtener el mejor resultado.\n",
    "- Necesita definir una medida de rendimiento para obtener el mejor resultado.\n",
    "- Una medida de rendimiento evalua la secuencia de entorno.\n",
    "\n",
    "<center><img src=\"../img/AgenteIA.jpeg\"/></center>\n",
    "\n",
    "- Para cada clase de **entorno de trabajo** buscaremos la clase de Agentes que tengan el mejor rendimiento.\n",
    "- Razonamiento perfecto o **Racionalidad** no es posible en muchos casos: Limitaciones computacionales (recursos).\n",
    "\n",
    "La función que describe el comportamiento de un agente se puede presentar en forma de tabla. Suponer un mundo hecho a medida para una aspiradora, que tiene solamente dos localizaciones: cuadrícula A y cuadrícula B. La aspiradora puede:\n",
    "- Percibir en qué cuadrante se encuentra.\n",
    "- Percibir si hay suciedad en el cuadrante. \n",
    "- Puede elegir si se mueve a la derecha, izquierda, aspirar la suciedad o no hacer nada.  \n",
    "\n",
    "Una función muy simple vendría dada por: si la cuadrícula en la que se encuentra está sucia, entonces aspirar, de otra forma, cambiar de cuadrícula.\n",
    "\n",
    "<center><img src=\"../img/AgenteAspirador.jpeg\"/></center>\n",
    "\n",
    "**Propiedades de un agente**\n",
    "- **Autonomía**: Es independiente, se apoya en el entorno.\n",
    "- **Sociabilidad**: Se comunica con otros iguales.\n",
    "- **Reactividad** Reacciona ante eventos.\n",
    "- **Proactividad**: Es capaz de promover acciones. \n",
    "- **Adaptabilidad**: Se pueden desenvolver ante cambios en el entorno sin cambiar el agente. \n",
    "- **Movilidad**: Es capaz de realizar acciones.\n",
    "- **Veracidad**: Si un agente tiene que hacer una acción realizara solo esa acción.\n",
    "- **Racionalidad**: Actúa racionalmente para que lo haga lo mejor posible de acuerdo a unos criterios. \n",
    "\n",
    "**_Racionalidad_**\n",
    "\n",
    "En el caso del enfoque de la IA según las «leyes del pensamiento», todo el énfasis se pone en hacer inferencias correctas. Una manera racional de actuar es llegar a la conclusión lógica de que si una acción dada permite alcanzar un objetivo. Sin embargo, el efectuar una inferencia correcta no depende siempre de la racionalidad, ya que existen situaciones para las que no hay nada correcto que hacer y en las que hay que tomar una decisión.\n",
    "\n",
    "¿Qué significa hacer lo correcto? Como primera aproximación se puede decir que lo correcto es aquello que permite al agente obtener el mejor resultado posible.\n",
    "\n",
    "La racionalidad en un instante dado depende de cuatro factores:\n",
    "- La medida de rendimiento que define el criterio de exito.\n",
    "- El conocimiento del medio que tiene el agente.\n",
    "- Las acciones que el agente puede realizar.\n",
    "- La secuencia de percepciones recibida.\n",
    "\n",
    "Obtener una racionalidad perfecta (hacer siempre lo correcto) no es posible en entornos complejos. La demanda computacional que esto implica es demasiado grande. Se adoptará la hipótesis de trabajo de que la racionalidad perfecta es un buen punto de partida para el análisis. Lo cual simplifica el problema y proporciona el escenario base adecuado. Cuando no se cuenta con el tiempo suficiente para efectuar todos los cálculos deseables **_la racionalidad limitada_** nos permite actuar adecuadamente.\n",
    "\n",
    "**_Entorno de trabajo_**\n",
    "\n",
    "Para diseñar un agente Racional el primer paso debe ser siempre especificar un Entorno de Trabajo de la forma más completa posible: REAS (Rendimiento, Entorno, Actuadores, Sensores).\n",
    "\n",
    "- **Rendimiento**. Cualidades deseables que el agente debería tener. Seguro, rápido, legal, viaje confortable, maximiza el beneficio.\n",
    "- **Entorno**. ¿Dónde se va a desenvolver nuestro agente? Carreteras, tráfico, peatones, clientes, tiempo (clima).\n",
    "- **Actuadores**. Elementos que nos permitan modificar ese entorno. Dirección, acelerador, freno, señal, bocina, visualizador...\n",
    "- **Sensores**. Permiten conocer la situación instantánea del entorno. Cámaras, sónar, GPS, tacómetro, acelerómetro, sensores del motor. "
   ]
  },
  {
   "cell_type": "markdown",
   "metadata": {},
   "source": [
    "### 1.2. Los fundamentos de la inteligencia artificia <a class=\"anchor\" id=\"t1_2\"></a>"
   ]
  }
 ],
 "metadata": {
  "kernelspec": {
   "display_name": "Python 3",
   "language": "python",
   "name": "python3"
  },
  "language_info": {
   "name": "python",
   "version": "3.8.6"
  },
  "orig_nbformat": 4
 },
 "nbformat": 4,
 "nbformat_minor": 2
}
