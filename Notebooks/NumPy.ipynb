{
 "cells": [
  {
   "cell_type": "markdown",
   "metadata": {},
   "source": [
    "## NumPy"
   ]
  },
  {
   "cell_type": "markdown",
   "metadata": {},
   "source": [
    "NumPy, abreviatura de Numerical Python, es una potente librería para trabajar con arrays. NumPy es la base de otras bibliotecas de Python como Pandas, Matplotlib, Scikit-learn y Scipy.\n",
    "\n",
    "NumPy es una alternativa a las listas de Python porque supera las ejecuciones más lentas utilizando el objeto array multidimensional para realizar operaciones lógicas y matemáticas complejas. Esto significa que es más rápido que las listas de Python a la hora de realizar operaciones complejas."
   ]
  },
  {
   "cell_type": "markdown",
   "metadata": {},
   "source": [
    "### NumPy Arrays"
   ]
  },
  {
   "cell_type": "markdown",
   "metadata": {},
   "source": [
    "El ndarray de NumPy es un objeto array N-dimensional que almacena un grupo de tipos de datos similares. Por defecto, cada elemento del ndarray es un objeto de tipo de datos object(dtype).\n",
    "\n",
    "La función array() acepta una serie de parámetros:\n",
    "<ol>\n",
    "    <li> object: Especifica el objeto lista, tupla, diccionario\n",
    "    <li> dtype: Es opcional utilizado cuando es necesario un type casting.\n",
    "    <li> order: Especifica la disposición de la matriz\n",
    "    <li> copy: Si se establece a true el objeto es copiado.\n",
    "    <li> ndmin: Especifica el número de dimensiones por las que se compondrá el array.\n",
    "    <li> subok: Si se establece a true, el tipo del array podrá ser cualquier clase.\n",
    "</ol>"
   ]
  },
  {
   "cell_type": "code",
   "execution_count": 1,
   "metadata": {},
   "outputs": [
    {
     "name": "stdout",
     "output_type": "stream",
     "text": [
      "This is a list into numpy array:\n",
      " [900 200 300  99  54  80]\n",
      "Type:  <class 'numpy.ndarray'>\n",
      "This is a tuple into numpy array:\n",
      " [ 50.   60.   90.  105.   90.6  30.8]\n",
      "Type:  <class 'numpy.ndarray'>\n"
     ]
    }
   ],
   "source": [
    "import numpy as np\n",
    "\n",
    "p_list = np.array([900, 200, 300, 99, 54, 80])\n",
    "print(\"This is a list into numpy array:\\n\", p_list)\n",
    "print(\"Type: \", type(p_list))\n",
    "\n",
    "p_tuple = np.array((50, 60, 90, 105, 90.6, 30.8))\n",
    "print(\"This is a tuple into numpy array:\\n\", p_tuple)\n",
    "print(\"Type: \", type(p_tuple))"
   ]
  },
  {
   "cell_type": "markdown",
   "metadata": {},
   "source": [
    "#### Dimensiones de un array\n",
    "Las dimensiones pueden ser las siguientes:\n",
    "- Zero-Dimensional (0-D): Son valores en el array\n",
    "- One-Dimensional (1-D): Son dimensiones básicas que contienen los arrays D-0\n",
    "- Two-Dimensional (2-D): Son arrays con arrays 1-D como elementos\n",
    "- Three-Dimensional (3-D): Son arrays 2-D o matrices"
   ]
  },
  {
   "cell_type": "code",
   "execution_count": 2,
   "metadata": {},
   "outputs": [
    {
     "name": "stdout",
     "output_type": "stream",
     "text": [
      "30\n",
      "Dimension:  0\n",
      "[30 40 60 80 10]\n",
      "Dimesion:  1\n",
      "[[20 50 60 12]\n",
      " [10 15 24 23]]\n",
      "Dimensions:  2\n",
      "[[[20 50 60 12]\n",
      "  [10 15 24 23]]]\n",
      "[[[1 2 3]\n",
      "  [4 5 6]\n",
      "  [7 8 9]]\n",
      "\n",
      " [[9 8 7]\n",
      "  [6 5 4]\n",
      "  [3 2 1]]\n",
      "\n",
      " [[1 2 3]\n",
      "  [6 5 6]\n",
      "  [7 8 9]]]\n",
      "Dimension:  3 & 3\n",
      "[[[[[[1 2 3 4]]]]]]\n",
      "Dimensions : 6\n"
     ]
    }
   ],
   "source": [
    "# 0-D\n",
    "zerod_arr = np.array(30)\n",
    "print(zerod_arr)\n",
    "print(\"Dimension: \", zerod_arr.ndim)\n",
    "\n",
    "# 1-D\n",
    "oned_arr = np.array([30, 40, 60, 80, 10])\n",
    "print(oned_arr)\n",
    "print(\"Dimesion: \", oned_arr.ndim)\n",
    "\n",
    "# 2-D\n",
    "twod_arr = np.array([[20, 50, 60, 12], [10, 15, 24, 23]])\n",
    "print(twod_arr)\n",
    "print(\"Dimensions: \", twod_arr.ndim)\n",
    "\n",
    "# 3-D\n",
    "threed_arr = np.array([twod_arr])\n",
    "print(threed_arr)\n",
    "'''\n",
    "[[[20 50 60 12]\n",
    "  [10 15 24 23]]]\n",
    "'''\n",
    "# or create one\n",
    "threed_arr2 = np.array([\n",
    "           [[1,2,3],[4,5,6],[7,8,9]],\n",
    "           [[9,8,7],[6,5,4],[3,2,1]],\n",
    "           [[1,2,3],[6,5,6],[7,8,9]]\n",
    "           ])\n",
    "print(threed_arr2)\n",
    "print(\"Dimension: \", threed_arr.ndim, \"&\", threed_arr2.ndim)\n",
    "\n",
    "#create an array of 6 dimensions\n",
    "sixd_arr = np.array([1, 2, 3, 4], ndmin=6)\n",
    "print(sixd_arr)\n",
    "print(\"Dimensions :\", sixd_arr.ndim)"
   ]
  },
  {
   "cell_type": "markdown",
   "metadata": {},
   "source": [
    "#### Creación de arrays\n",
    "Una de las formas la descrita antes, convertiendo listas, tuplas con el coamndo np.array.\n",
    "\n",
    "Existe otra forma con el comando np.linspace ,esté comando tiene 3 entradas (start, end, step)\n",
    "\n",
    "La función np.arange() nos permite crear una serie de valores.\n",
    "\n",
    "También disponemos de las funciones np.zero, np.ones, np.empty"
   ]
  },
  {
   "cell_type": "code",
   "execution_count": 4,
   "metadata": {},
   "outputs": [
    {
     "name": "stdout",
     "output_type": "stream",
     "text": [
      "[2.  2.6 3.2 3.8 4.4 5. ]\n",
      "[ 1.  5.  9. 13. 17. 21. 25. 29.]\n",
      "[[[0. 0. 0.]\n",
      "  [0. 0. 0.]\n",
      "  [0. 0. 0.]]\n",
      "\n",
      " [[0. 0. 0.]\n",
      "  [0. 0. 0.]\n",
      "  [0. 0. 0.]]]\n"
     ]
    }
   ],
   "source": [
    "linspace_arr = np.linspace(2., 5., 6)\n",
    "print(linspace_arr)\n",
    "\n",
    "arange_arr = np.arange(1, 30., 4)\n",
    "print(arange_arr)\n",
    "\n",
    "zeros_arr = np.zeros((2, 3, 3))\n",
    "print(zeros_arr)"
   ]
  },
  {
   "cell_type": "markdown",
   "metadata": {},
   "source": [
    "#### NumPy Data types\n",
    "\n",
    "Los elementos del array NumPy son NumPy dtypes, donde cada objeto de tipo de datos tiene un bloque de memoria fijo relativo al array."
   ]
  },
  {
   "cell_type": "code",
   "execution_count": 5,
   "metadata": {},
   "outputs": [
    {
     "name": "stdout",
     "output_type": "stream",
     "text": [
      "int32 \n",
      " Type:  <class 'numpy.int32'>\n",
      "complex128 \n",
      " Type:  <class 'numpy.complex128'>\n",
      "bool \n",
      " Type:  <class 'numpy.bool_'>\n",
      "float32 \n",
      " Type:  <class 'numpy.float32'>\n",
      "uint64 \n",
      " Type:  <class 'numpy.uint64'>\n",
      "int32 \n",
      " Type:  <class 'numpy.int32'>\n",
      "float64 \n",
      " Type:  <class 'numpy.float64'>\n",
      "complex128 \n",
      " Type:  <class 'numpy.complex128'>\n",
      "uint64 \n",
      " Type:  <class 'numpy.uint64'>\n"
     ]
    }
   ],
   "source": [
    "int_dt = np.dtype(np.int32)\n",
    "print(int_dt, \"\\n Type: \", int_dt.type)\n",
    "\n",
    "complex_dt = np.dtype(np.complex128)\n",
    "print(complex_dt, \"\\n Type: \", complex_dt.type)\n",
    "\n",
    "bool_dt = np.dtype(np.bool_)\n",
    "print(bool_dt, \"\\n Type: \", bool_dt.type)\n",
    "\n",
    "float_dt = np.dtype(np.float32)\n",
    "print(float_dt, \"\\n Type: \", float_dt.type)\n",
    "\n",
    "unsignedInt_dt = np.dtype(np.uint64)\n",
    "print(unsignedInt_dt, \"\\n Type: \", unsignedInt_dt.type)\n",
    "\n",
    "# Character codes\n",
    "int_dt = np.dtype('i4')\n",
    "print(int_dt, \"\\n Type: \", int_dt.type)\n",
    "\n",
    "float_dt = np.dtype('f8')\n",
    "print(float_dt, \"\\n Type: \", float_dt.type)\n",
    "\n",
    "complex_dt = np.dtype('c16')\n",
    "print(complex_dt, \"\\n Type: \", complex_dt.type)\n",
    "\n",
    "unsignedInt_dt = np.dtype('u8')\n",
    "print(unsignedInt_dt, \"\\n Type: \", unsignedInt_dt.type)"
   ]
  }
 ],
 "metadata": {
  "kernelspec": {
   "display_name": "Python 3",
   "language": "python",
   "name": "python3"
  },
  "language_info": {
   "codemirror_mode": {
    "name": "ipython",
    "version": 3
   },
   "file_extension": ".py",
   "mimetype": "text/x-python",
   "name": "python",
   "nbconvert_exporter": "python",
   "pygments_lexer": "ipython3",
   "version": "3.8.6rc1"
  },
  "orig_nbformat": 4
 },
 "nbformat": 4,
 "nbformat_minor": 2
}
